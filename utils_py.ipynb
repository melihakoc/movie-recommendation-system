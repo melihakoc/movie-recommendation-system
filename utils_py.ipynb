{
  "nbformat": 4,
  "nbformat_minor": 0,
  "metadata": {
    "colab": {
      "provenance": [],
      "authorship_tag": "ABX9TyOLEc3ncsw1wP2nCONdCFLm",
      "include_colab_link": true
    },
    "kernelspec": {
      "name": "python3",
      "display_name": "Python 3"
    },
    "language_info": {
      "name": "python"
    }
  },
  "cells": [
    {
      "cell_type": "markdown",
      "metadata": {
        "id": "view-in-github",
        "colab_type": "text"
      },
      "source": [
        "<a href=\"https://colab.research.google.com/github/melihakoc/movie-recommendation-system/blob/main/utils_py.ipynb\" target=\"_parent\"><img src=\"https://colab.research.google.com/assets/colab-badge.svg\" alt=\"Open In Colab\"/></a>"
      ]
    },
    {
      "cell_type": "code",
      "source": [
        "from google.colab import drive\n",
        "drive.mount('/content/drive')"
      ],
      "metadata": {
        "colab": {
          "base_uri": "https://localhost:8080/"
        },
        "id": "nYvFbHJSvmdf",
        "outputId": "499807ae-5397-40de-88a7-afa960dbe167"
      },
      "execution_count": 3,
      "outputs": [
        {
          "output_type": "stream",
          "name": "stdout",
          "text": [
            "Drive already mounted at /content/drive; to attempt to forcibly remount, call drive.mount(\"/content/drive\", force_remount=True).\n"
          ]
        }
      ]
    },
    {
      "cell_type": "code",
      "source": [
        "from googleapiclient.discovery import build\n",
        "from google.oauth2 import service_account\n"
      ],
      "metadata": {
        "id": "avHLtXMSv0TM"
      },
      "execution_count": 5,
      "outputs": []
    },
    {
      "cell_type": "code",
      "source": [
        "SERVICE_ACCOUNT_FILE = '/content/drive/My Drive/credentials.json'\n",
        "SCOPES = ['https://www.googleapis.com/auth/drive']"
      ],
      "metadata": {
        "id": "V9zeGczewiSt"
      },
      "execution_count": 6,
      "outputs": []
    },
    {
      "cell_type": "code",
      "source": [
        "credentials = service_account.Credentials.from_service_account_file(\n",
        "    SERVICE_ACCOUNT_FILE, scopes=SCOPES)\n",
        "service = build('drive', 'v3', credentials=credentials)"
      ],
      "metadata": {
        "id": "bAdMsb6JwmOW"
      },
      "execution_count": 7,
      "outputs": []
    },
    {
      "cell_type": "code",
      "source": [
        "def list_files_in_folder(folder_id):\n",
        "    query = f\"'{folder_id}' in parents\"\n",
        "    results = service.files().list(q=query, pageSize=100, fields=\"files(id, name)\").execute()\n",
        "    items = results.get('files', [])\n",
        "    if not items:\n",
        "        print('No files found.')\n",
        "        return\n",
        "    for item in items:\n",
        "        print(f\"Name: {item['name']}, ID: {item['id']}\")"
      ],
      "metadata": {
        "id": "Yf_7waEXwpiU"
      },
      "execution_count": 8,
      "outputs": []
    },
    {
      "cell_type": "code",
      "source": [
        "folder_id = '1qAvQ0sCfontcI0Av93hr2_zhz_e0RptS'\n",
        "list_files_in_folder(folder_id)"
      ],
      "metadata": {
        "colab": {
          "base_uri": "https://localhost:8080/"
        },
        "id": "emEpec3Xwzn1",
        "outputId": "d4d6018e-3a71-4832-9d10-397ed0379ac5"
      },
      "execution_count": 9,
      "outputs": [
        {
          "output_type": "stream",
          "name": "stdout",
          "text": [
            "Name: cleaned_releases.csv, ID: 1RZXcgsajGwVfxtTNDuSGU98OUmAlb8VV\n",
            "Name: cleaned_crew.csv, ID: 1wG2urEGqidwj63GQiAoNUX5eoSKSRxn5\n",
            "Name: cleaned_actors.csv, ID: 1XWbggqLSFzJikVQEFWthAJWyHBEP2xtB\n",
            "Name: cleaned_movies.csv, ID: 1Umn1vu03xKbQsoShQVq7gQDWYN9EC1gO\n",
            "Name: cleaned_themes.csv, ID: 1N_vebClYNPYLzVqU-9lxyoE84gZYchYf\n",
            "Name: cleaned_studios.csv, ID: 147h0pIWC-gbZwDyoufi0SndPd75x9nOI\n",
            "Name: cleaned_posters.csv, ID: 1XGf4u7nXYVkBrK_XgLNFw8lButS4SwB5\n",
            "Name: cleaned_languages.csv, ID: 1NvFwKbQvjQOLzOh4DhEK3i0ErYjWheLN\n",
            "Name: cleaned_genres.csv, ID: 1zQyS-iUCg51RHb4F4NzEtMcng1bt54v1\n",
            "Name: cleaned_countries.csv, ID: 19Nvn-LrKeYSNB5WDAM2DbUxjx1yJ9VVM\n"
          ]
        }
      ]
    }
  ]
}